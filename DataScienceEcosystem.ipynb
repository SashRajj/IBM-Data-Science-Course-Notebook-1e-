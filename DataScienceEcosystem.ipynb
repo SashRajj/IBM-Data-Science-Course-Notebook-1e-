{
 "cells": [
  {
   "cell_type": "markdown",
   "id": "88f04612-6034-4a2a-9f44-ebad8f849f71",
   "metadata": {},
   "source": [
    "# Data Science Tools and Ecosystem"
   ]
  },
  {
   "cell_type": "markdown",
   "id": "bbb62507-5332-49c2-bc44-21df046ec71a",
   "metadata": {},
   "source": [
    "Excercise 3\n",
    "\n",
    "In this notebook, Data Science Tools and Ecosystem are summarized."
   ]
  },
  {
   "cell_type": "markdown",
   "id": "d46458d6-1019-442c-ae4e-9b777b63a0f0",
   "metadata": {},
   "source": [
    "Excercise 10"
   ]
  },
  {
   "cell_type": "markdown",
   "id": "571ce9a4-c0b7-4ce3-ab9e-37fd102b88e3",
   "metadata": {},
   "source": [
    "Objectives:\n",
    "\n",
    "1. Poplular languages in datascience\n",
    "2. Popular data science libraries \n",
    "3. Some data science tools\n",
    "4. Examples of arthimetic expressions\n",
    "5. Convert 200 minutes to hours"
   ]
  },
  {
   "cell_type": "markdown",
   "id": "99b636a1-7876-46fd-b4a8-643f8e0cd7db",
   "metadata": {},
   "source": [
    "Excercise 4\n",
    "\n",
    "Some of the popular languages that Data Scientists use are:\n",
    "\n",
    "1. Python\n",
    "2. R\n",
    "3. SQL\n",
    "4. Java\n",
    "5. Julia\n",
    "6. Scala\n",
    "7. C/C++\n",
    "8. JavaScript"
   ]
  },
  {
   "cell_type": "markdown",
   "id": "a324a495-2617-4f29-b903-df1c70fd1e08",
   "metadata": {},
   "source": [
    "Excercise 5 \n",
    "\n",
    "Some of the commonly used libraries used by Data Scientists include:\n",
    "\n",
    "\n",
    "1. Chainer\n",
    "2. Caffe2 \n",
    "3. PyBrain\n",
    "4. Bob\n",
    "5. Pipenv\n",
    "6. Ramp\n",
    "7. NuPIC\n",
    "8. Theano\n",
    "9. ELI5\n",
    "10. LightGBM\n",
    "11. BeautifulSoup\n",
    "12. Scrapy\n",
    "13. PyTorch\n",
    "14. SciKit-Learn\n",
    "15. Keras\n",
    "16. Matplotlib\n",
    "17. Pandas\n",
    "18. SciPy\n",
    "19. NumPy\n",
    "20. TensorFlow"
   ]
  },
  {
   "cell_type": "markdown",
   "id": "7efe1dea-4e7f-4f1b-b41f-4d773201ba7a",
   "metadata": {},
   "source": [
    "Excercise 6"
   ]
  },
  {
   "cell_type": "markdown",
   "id": "ffe4b5eb-41a7-41be-8fda-6ca5b8c5b95b",
   "metadata": {},
   "source": [
    "Data Science Tools"
   ]
  },
  {
   "cell_type": "raw",
   "id": "1b3e0a66-f75b-4b31-ae14-a79fb4f40b70",
   "metadata": {},
   "source": [
    "SAS"
   ]
  },
  {
   "cell_type": "raw",
   "id": "ea5ab8ce-6174-45b5-84f4-b6b0b1d9398e",
   "metadata": {},
   "source": [
    "Apache Spark"
   ]
  },
  {
   "cell_type": "raw",
   "id": "12a83e60-70c3-42e2-ae21-210dca8f2b01",
   "metadata": {},
   "source": [
    "Big ML"
   ]
  },
  {
   "cell_type": "markdown",
   "id": "2758cb63-9673-4e6a-8486-8c1909153f2b",
   "metadata": {},
   "source": [
    "Excercise 7"
   ]
  },
  {
   "cell_type": "markdown",
   "id": "a733824f-fa89-4be1-a500-8a911862018a",
   "metadata": {},
   "source": [
    "### Below are a few examples of evaluating arithmetic expressions in Python"
   ]
  },
  {
   "cell_type": "code",
   "execution_count": 29,
   "id": "2e188201-09e3-4ede-b8e0-00ff4faa8a48",
   "metadata": {},
   "outputs": [
    {
     "name": "stdout",
     "output_type": "stream",
     "text": [
      "Arithmetic examples:  11\n"
     ]
    }
   ],
   "source": [
    "print(\"Arithmetic examples: \", 5+6)"
   ]
  },
  {
   "cell_type": "markdown",
   "id": "3b127d07-225b-4f7f-abff-88afe1b6eae9",
   "metadata": {},
   "source": [
    "Excercise 8"
   ]
  },
  {
   "cell_type": "code",
   "execution_count": 32,
   "id": "839a6ed7-3d24-4d32-a849-c628c4477cac",
   "metadata": {},
   "outputs": [
    {
     "data": {
      "text/plain": [
       "17"
      ]
     },
     "execution_count": 32,
     "metadata": {},
     "output_type": "execute_result"
    }
   ],
   "source": [
    "(3*4)+5"
   ]
  },
  {
   "cell_type": "markdown",
   "id": "733813aa-9c55-413a-922b-7a8ba5c32ec6",
   "metadata": {},
   "source": [
    "Excercise 9"
   ]
  },
  {
   "cell_type": "code",
   "execution_count": 48,
   "id": "006572c9-736b-4145-a7fc-c511e0f0e7e0",
   "metadata": {},
   "outputs": [
    {
     "name": "stdout",
     "output_type": "stream",
     "text": [
      "200 minutes to hours is 3.3333333333333335 hours\n"
     ]
    }
   ],
   "source": [
    "# This will convert 200 minutes to hours by diving by 60\n",
    "\n",
    "minutes = 200\n",
    "hours = minutes / 60\n",
    "print(\"200 minutes to hours is \" +  str(hours) + \" hours\")"
   ]
  },
  {
   "cell_type": "markdown",
   "id": "bf90ea6a-e35d-48ac-9f55-3276e9144074",
   "metadata": {},
   "source": [
    "Excercise 11"
   ]
  },
  {
   "cell_type": "markdown",
   "id": "e3fc7f56-2cff-4ef5-b8f1-17b51e17eeaf",
   "metadata": {},
   "source": [
    "## Author: Sashrik Rajesh"
   ]
  }
 ],
 "metadata": {
  "kernelspec": {
   "display_name": "Python 3 (ipykernel)",
   "language": "python",
   "name": "python3"
  },
  "language_info": {
   "codemirror_mode": {
    "name": "ipython",
    "version": 3
   },
   "file_extension": ".py",
   "mimetype": "text/x-python",
   "name": "python",
   "nbconvert_exporter": "python",
   "pygments_lexer": "ipython3",
   "version": "3.11.7"
  }
 },
 "nbformat": 4,
 "nbformat_minor": 5
}
